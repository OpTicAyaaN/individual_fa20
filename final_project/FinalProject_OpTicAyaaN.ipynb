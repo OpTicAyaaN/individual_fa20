{
 "cells": [
  {
   "cell_type": "markdown",
   "metadata": {},
   "source": [
    "# COGS 108 - Final Project "
   ]
  },
  {
   "cell_type": "markdown",
   "metadata": {},
   "source": [
    "# Overview"
   ]
  },
  {
   "cell_type": "markdown",
   "metadata": {},
   "source": [
    "*Fill in your overview here*"
   ]
  },
  {
   "cell_type": "markdown",
   "metadata": {},
   "source": [
    "# Name & GitHub ID\n",
    "\n",
    "- Name: Ayaan Gill\n",
    "- GitHub Username: OpTicAyaaN"
   ]
  },
  {
   "cell_type": "markdown",
   "metadata": {},
   "source": [
    "# Research Question"
   ]
  },
  {
   "cell_type": "markdown",
   "metadata": {},
   "source": [
    "Is there a correlation between crime rates and the access to public parks in San Diego?"
   ]
  },
  {
   "cell_type": "markdown",
   "metadata": {},
   "source": [
    "## Background and Prior Work"
   ]
  },
  {
   "cell_type": "markdown",
   "metadata": {},
   "source": [
    "San Diego's Parks and Recreation Department helps to drive not only the city's economy, but its community as well, as it offers programs and other opportunities for all members of its community, including opportunities for at-risk youth. (1) \n",
    "A CDC study found that despite the benefits of a park to a community and its residents, increased crime rates surrounding parks often deterred people from using the parks. (2) \n",
    "\n",
    "References (include links):\n",
    "- 1) https://www.sandiego.gov/sites/default/files/fastfacts.pdf\n",
    "- 2) https://www.cdc.gov/pcd/issues/2020/19_0434.htm"
   ]
  },
  {
   "cell_type": "markdown",
   "metadata": {},
   "source": [
    "# Hypothesis\n"
   ]
  },
  {
   "cell_type": "markdown",
   "metadata": {},
   "source": [
    "I hypothesize that San Diego's crime rates will be detrimentally impacted in areas with less access to parks. This is because research in other cities has shown that parks in areas with higher crime rates are often rated lower and less attended than those in lower crime rate areas."
   ]
  },
  {
   "cell_type": "markdown",
   "metadata": {},
   "source": [
    "# Dataset(s)"
   ]
  },
  {
   "cell_type": "markdown",
   "metadata": {},
   "source": [
    "- Dataset Name: Police Calls for Service 2019\n",
    "- Link to the dataset: http://seshat.datasd.org/pd/pd_calls_for_service_2019_datasd.csv\n",
    "- Number of observations: 590967\n",
    "- Description: This dataset provides a list of police calls and information about each call, including reason and the SDPD beat (location code used by police) for each call.\n",
    "\n",
    "\n",
    "- Dataset Name: Police Beats\n",
    "- Link to the dataset: http://seshat.datasd.org/sde/pd/pd_beats_datasd.geojson\n",
    "- Number of observations: 140\n",
    "- Description: This dataset provides geolocation data of the SDPD beat codes used in the Police Calls for Service dataset.\n",
    "\n",
    "\n",
    "- Dataset Name: Park Locations\n",
    "- Link to the dataset: http://seshat.datasd.org/sde/parks/parks_datasd.geojson\n",
    "- Number of observations: 2769\n",
    "- Description: This dataset contains geolocation data on all of the parks managed by the City of San Diego Parks & Recreation Department.\n",
    "\n",
    "\n",
    "In order to use these datasets together, I will count how many parks (from Park geojson data) are in each "
   ]
  },
  {
   "cell_type": "markdown",
   "metadata": {},
   "source": [
    "# Setup"
   ]
  },
  {
   "cell_type": "code",
   "execution_count": 1,
   "metadata": {},
   "outputs": [],
   "source": [
    "#Imports\n",
    "%matplotlib inline\n",
    "\n",
    "import numpy as np\n",
    "import pandas as pd\n",
    "import geopandas as gpd\n",
    "import geoplot as gplt\n",
    "import matplotlib.pyplot as plt"
   ]
  },
  {
   "cell_type": "markdown",
   "metadata": {},
   "source": [
    "# Data Cleaning"
   ]
  },
  {
   "cell_type": "markdown",
   "metadata": {},
   "source": [
    "Describe your data cleaning steps here."
   ]
  },
  {
   "cell_type": "code",
   "execution_count": 2,
   "metadata": {},
   "outputs": [],
   "source": [
    "#Creating geodataframes from geospatial datasets\n",
    "beats_geo = gpd.read_file('http://seshat.datasd.org/sde/pd/pd_beats_datasd.geojson')\n",
    "parks_geo = gpd.read_file('http://seshat.datasd.org/sde/parks/parks_datasd.geojson')\n",
    "\n",
    "#Counting calls per beat\n",
    "calls = pd.read_csv('http://seshat.datasd.org/pd/pd_calls_for_service_2019_datasd.csv')\n",
    "calls = calls[['beat']]\n",
    "callcount = calls.value_counts().rename_axis('beat').reset_index(name='calls')"
   ]
  },
  {
   "cell_type": "code",
   "execution_count": 3,
   "metadata": {},
   "outputs": [],
   "source": [
    "#Counting acreage of parks per beat\n",
    "parks_in_beats = gpd.sjoin(beats_geo, parks_geo, how=\"left\", op=\"intersects\")\n",
    "parks_in_beats = parks_in_beats[['beat', 'geometry', 'name_right', 'alias', 'gis_acres']]\n",
    "park_acres = parks_in_beats.groupby('beat')['gis_acres'].sum().reset_index()\n",
    "park_acres.columns = ['beat', 'acres']\n",
    "\n",
    "#Creating combined dataframe of police calls and park acreage by beat\n",
    "combined = callcount.merge(park_acres, how='outer', on='beat')\n",
    "\n",
    "#Dropping values with invalid beat codes and sorting\n",
    "combined = combined[combined['beat'] > 100]\n",
    "combined = combined[combined['beat'] < 1000]\n",
    "combined = combined.sort_values('beat').reset_index(drop=True)"
   ]
  },
  {
   "cell_type": "markdown",
   "metadata": {},
   "source": [
    "# Data Analysis & Results"
   ]
  },
  {
   "cell_type": "markdown",
   "metadata": {},
   "source": [
    "Include cells that describe the steps in your data analysis."
   ]
  },
  {
   "cell_type": "code",
   "execution_count": 4,
   "metadata": {},
   "outputs": [
    {
     "name": "stdout",
     "output_type": "stream",
     "text": [
      "0.06812878670539324\n"
     ]
    },
    {
     "data": {
      "image/png": "[encoded data removed]",
      "text/plain": [
       "<Figure size 432x288 with 1 Axes>"
      ]
     },
     "metadata": {
      "needs_background": "light"
     },
     "output_type": "display_data"
    }
   ],
   "source": [
    "plt1 = combined.plot.scatter(x='calls', y='acres')\n",
    "correlation = combined['calls'].corr(combined['acres'])\n",
    "print(correlation)"
   ]
  },
  {
   "cell_type": "markdown",
   "metadata": {},
   "source": [
    "This plot shows the number of service calls and acres of parks for each SDPD beat. It shows several outliers \n",
    "\n",
    "Because the pearson's correlational constant between police calls and park acreage by beat is below 0.1, we can say there is not a significant linear relationship between the two."
   ]
  },
  {
   "cell_type": "markdown",
   "metadata": {},
   "source": [
    "# Ethics & Privacy"
   ]
  },
  {
   "cell_type": "markdown",
   "metadata": {},
   "source": [
    "The analysis of this dataset for our purposes would not pose privacy or ethical concerns, as it uses publicly available government-provided data with no personally identifiable information.\n",
    "\n",
    "There is potentially bias in the reported data for reported phone calls, but the beats and parks are geographically defined areas by the government, which is the source of my data for parks and beats."
   ]
  },
  {
   "cell_type": "markdown",
   "metadata": {},
   "source": [
    "# Conclusion & Discussion"
   ]
  },
  {
   "cell_type": "markdown",
   "metadata": {},
   "source": [
    "*Fill in your discussion information here*"
   ]
  }
 ],
 "metadata": {
  "kernelspec": {
   "display_name": "geo_env",
   "language": "python",
   "name": "geo_env"
  },
  "language_info": {
   "codemirror_mode": {
    "name": "ipython",
    "version": 3
   },
   "file_extension": ".py",
   "mimetype": "text/x-python",
   "name": "python",
   "nbconvert_exporter": "python",
   "pygments_lexer": "ipython3",
   "version": "3.9.1"
  }
 },
 "nbformat": 4,
 "nbformat_minor": 2
}
