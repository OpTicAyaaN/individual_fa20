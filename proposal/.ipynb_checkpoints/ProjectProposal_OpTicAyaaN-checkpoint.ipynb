{
 "cells": [
  {
   "cell_type": "markdown",
   "metadata": {},
   "source": [
    "# COGS 108 - Project Proposal"
   ]
  },
  {
   "cell_type": "markdown",
   "metadata": {},
   "source": [
    "# Names & GitHub ID\n",
    "\n",
    "- Name: Ayaan Gill\n",
    "- GitHub Username: OpTicAyaaN"
   ]
  },
  {
   "cell_type": "markdown",
   "metadata": {},
   "source": [
    "# Research Question"
   ]
  },
  {
   "cell_type": "markdown",
   "metadata": {},
   "source": [
    "Is there a correlation between crime rates and the attendance of public parks in San Diego?"
   ]
  },
  {
   "cell_type": "markdown",
   "metadata": {},
   "source": [
    "## Background and Prior Work"
   ]
  },
  {
   "cell_type": "markdown",
   "metadata": {},
   "source": [
    "San Diego's Parks and Recreation Department helps to drive not only the city's economy, but its community as well, as it offers programs and other opportunities for all members of its community, including opportunities for at-risk youth. (1) \n",
    "A CDC study found that despite the benefits of a park to a community and its residents, increased crime rates surrounding parks often deterred people from using the parks. (2) \n",
    "\n",
    "References (include links):\n",
    "- 1) https://www.sandiego.gov/sites/default/files/fastfacts.pdf\n",
    "- 2) https://www.cdc.gov/pcd/issues/2020/19_0434.htm"
   ]
  },
  {
   "cell_type": "markdown",
   "metadata": {},
   "source": [
    "# Hypothesis\n"
   ]
  },
  {
   "cell_type": "markdown",
   "metadata": {},
   "source": [
    "I hypothesize that San Diego's park attendance rates, and consequently its public health, will be detrimentally impacted in areas with higher crime rates. This is because research in other cities has shown that parks in areas with higher crime rates are often rated lower and less attended than those in lower crime rate areas."
   ]
  },
  {
   "cell_type": "markdown",
   "metadata": {},
   "source": [
    "# Data"
   ]
  },
  {
   "cell_type": "markdown",
   "metadata": {},
   "source": [
    "The ideal dataset to answer my research question would include statistics on crime rates broken down by type and park attendance records, both organized by neighborhood, as well as statistics like population of each neighborhood. This data is already collected and reported by their respective governing bodies."
   ]
  },
  {
   "cell_type": "markdown",
   "metadata": {},
   "source": [
    "# Ethics & Privacy"
   ]
  },
  {
   "cell_type": "markdown",
   "metadata": {},
   "source": [
    "The analysis of this dataset for our purposes would not pose privacy or ethical concerns, as it uses publicly available government-provided data with no personally identifiable information."
   ]
  }
 ],
 "metadata": {
  "kernelspec": {
   "display_name": "Python 3",
   "language": "python",
   "name": "python3"
  },
  "language_info": {
   "codemirror_mode": {
    "name": "ipython",
    "version": 3
   },
   "file_extension": ".py",
   "mimetype": "text/x-python",
   "name": "python",
   "nbconvert_exporter": "python",
   "pygments_lexer": "ipython3",
   "version": "3.9.0"
  }
 },
 "nbformat": 4,
 "nbformat_minor": 2
}
